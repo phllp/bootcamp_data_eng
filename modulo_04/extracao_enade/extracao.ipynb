{
 "cells": [
  {
   "attachments": {},
   "cell_type": "markdown",
   "metadata": {},
   "source": [
    "# Extracao de dados do ENADE"
   ]
  },
  {
   "cell_type": "code",
   "execution_count": 1,
   "metadata": {},
   "outputs": [],
   "source": [
    "import pandas as pd\n",
    "import numpy as np\n",
    "import zipfile\n",
    "import requests\n",
    "from io import BytesIO\n",
    "import os"
   ]
  },
  {
   "cell_type": "code",
   "execution_count": 4,
   "metadata": {},
   "outputs": [],
   "source": [
    "os.makedirs('./enade2019', exist_ok=True)"
   ]
  },
  {
   "cell_type": "code",
   "execution_count": 9,
   "metadata": {},
   "outputs": [
    {
     "name": "stderr",
     "output_type": "stream",
     "text": [
      "/home/phllp/dev/bootcamp_data_eng/modulo_04/extracao_enade/env/lib/python3.8/site-packages/urllib3/connectionpool.py:1045: InsecureRequestWarning: Unverified HTTPS request is being made to host 'download.inep.gov.br'. Adding certificate verification is strongly advised. See: https://urllib3.readthedocs.io/en/1.26.x/advanced-usage.html#ssl-warnings\n",
      "  warnings.warn(\n"
     ]
    }
   ],
   "source": [
    "# Endereço para download\n",
    "url = 'https://download.inep.gov.br/microdados/microdados_enade_2019_LGPD.zip'\n",
    "\n",
    "# Execução do download\n",
    "filebytes = BytesIO(\n",
    "  requests.get(url, verify=False).content\n",
    ")\n",
    "\n",
    "# Extração do ZIP\n",
    "myzip = zipfile.ZipFile(filebytes)\n",
    "myzip.extractall('./enade2019')"
   ]
  },
  {
   "attachments": {},
   "cell_type": "markdown",
   "metadata": {},
   "source": [
    "## Verificando dados baixados"
   ]
  },
  {
   "cell_type": "code",
   "execution_count": 2,
   "metadata": {},
   "outputs": [],
   "source": [
    "files = [\n",
    "  'microdados2019_arq3.txt',\n",
    "  'microdados2019_arq5.txt',\n",
    "  'microdados2019_arq6.txt',\n",
    "  'microdados2019_arq7.txt',\n",
    "  'microdados2019_arq8.txt',\n",
    "  'microdados2019_arq10.txt',\n",
    "  'microdados2019_arq11.txt',\n",
    "  'microdados2019_arq14.txt'\n",
    "]"
   ]
  },
  {
   "cell_type": "code",
   "execution_count": 5,
   "metadata": {},
   "outputs": [
    {
     "name": "stderr",
     "output_type": "stream",
     "text": [
      "/tmp/ipykernel_5637/126235175.py:9: DtypeWarning: Columns (27,28,37) have mixed types. Specify dtype option on import or set low_memory=False.\n",
      "  df = pd.read_csv(local_arquivo, sep = ';', low_memory=True, decimal=',', usecols=cols)\n"
     ]
    }
   ],
   "source": [
    "PATH = r'./enade2019/microdados_Enade_2019_LGPD/2. DADOS'\n",
    "lista_path = os.listdir(PATH) \n",
    "lista_df = [] # cria uma lista vazia\n",
    "for arquivo in lista_path:\n",
    "    if arquivo == 'microdados2019_arq3.txt':\n",
    "        local_arquivo = os.path.join(PATH, arquivo)\n",
    "        # [\"CO_GRUPO\", \"TP_SEXO\", \"NU_IDADE\", \"NT_GER\", \"NT_FG\", \"NT_CE\", \"QE_IO1\", \"QE_IO2\", \"QE_IO4\", \"QE_IO5\", \"QE_IO8\"]\n",
    "        cols = ['NT_GER', 'NT_FG', 'NT_CE']\n",
    "        df = pd.read_csv(local_arquivo, sep = ';', low_memory=True, decimal=',', usecols=cols)\n",
    "    elif arquivo == 'microdados2019_arq1.txt':\n",
    "        local_arquivo = os.path.join(PATH, arquivo)\n",
    "        # [\"CO_GRUPO\", \"TP_SEXO\", \"NU_IDADE\", \"NT_GER\", \"NT_FG\", \"NT_CE\", \"QE_IO1\", \"QE_IO2\", \"QE_IO4\", \"QE_IO5\", \"QE_IO8\"]\n",
    "        cols = ['CO_GRUPO']\n",
    "        df = pd.read_csv(local_arquivo, sep = ';', low_memory=True, decimal=',', usecols=cols)\n",
    "\n",
    "    else:\n",
    "        local_arquivo = os.path.join(PATH, arquivo)\n",
    "        df = pd.read_csv(local_arquivo, sep = ';', low_memory=True, decimal=',')\n",
    "        lista_df.append(df)\n",
    "df = pd.concat(lista_df) \n",
    "df.to_csv('./enade_clean.csv')"
   ]
  },
  {
   "cell_type": "code",
   "execution_count": 6,
   "metadata": {},
   "outputs": [
    {
     "data": {
      "text/html": [
       "<div>\n",
       "<style scoped>\n",
       "    .dataframe tbody tr th:only-of-type {\n",
       "        vertical-align: middle;\n",
       "    }\n",
       "\n",
       "    .dataframe tbody tr th {\n",
       "        vertical-align: top;\n",
       "    }\n",
       "\n",
       "    .dataframe thead th {\n",
       "        text-align: right;\n",
       "    }\n",
       "</style>\n",
       "<table border=\"1\" class=\"dataframe\">\n",
       "  <thead>\n",
       "    <tr style=\"text-align: right;\">\n",
       "      <th></th>\n",
       "      <th>NU_ANO</th>\n",
       "      <th>CO_CURSO</th>\n",
       "      <th>QE_I02</th>\n",
       "      <th>QE_I08</th>\n",
       "      <th>QE_I05</th>\n",
       "      <th>NU_IDADE</th>\n",
       "      <th>TP_SEXO</th>\n",
       "      <th>QE_I04</th>\n",
       "      <th>QE_I01</th>\n",
       "    </tr>\n",
       "  </thead>\n",
       "  <tbody>\n",
       "    <tr>\n",
       "      <th>0</th>\n",
       "      <td>2019</td>\n",
       "      <td>5221</td>\n",
       "      <td>A</td>\n",
       "      <td>NaN</td>\n",
       "      <td>NaN</td>\n",
       "      <td>NaN</td>\n",
       "      <td>NaN</td>\n",
       "      <td>NaN</td>\n",
       "      <td>NaN</td>\n",
       "    </tr>\n",
       "    <tr>\n",
       "      <th>1</th>\n",
       "      <td>2019</td>\n",
       "      <td>7712</td>\n",
       "      <td>A</td>\n",
       "      <td>NaN</td>\n",
       "      <td>NaN</td>\n",
       "      <td>NaN</td>\n",
       "      <td>NaN</td>\n",
       "      <td>NaN</td>\n",
       "      <td>NaN</td>\n",
       "    </tr>\n",
       "    <tr>\n",
       "      <th>2</th>\n",
       "      <td>2019</td>\n",
       "      <td>9264</td>\n",
       "      <td>A</td>\n",
       "      <td>NaN</td>\n",
       "      <td>NaN</td>\n",
       "      <td>NaN</td>\n",
       "      <td>NaN</td>\n",
       "      <td>NaN</td>\n",
       "      <td>NaN</td>\n",
       "    </tr>\n",
       "    <tr>\n",
       "      <th>3</th>\n",
       "      <td>2019</td>\n",
       "      <td>9733</td>\n",
       "      <td>A</td>\n",
       "      <td>NaN</td>\n",
       "      <td>NaN</td>\n",
       "      <td>NaN</td>\n",
       "      <td>NaN</td>\n",
       "      <td>NaN</td>\n",
       "      <td>NaN</td>\n",
       "    </tr>\n",
       "    <tr>\n",
       "      <th>4</th>\n",
       "      <td>2019</td>\n",
       "      <td>12570</td>\n",
       "      <td>A</td>\n",
       "      <td>NaN</td>\n",
       "      <td>NaN</td>\n",
       "      <td>NaN</td>\n",
       "      <td>NaN</td>\n",
       "      <td>NaN</td>\n",
       "      <td>NaN</td>\n",
       "    </tr>\n",
       "    <tr>\n",
       "      <th>...</th>\n",
       "      <td>...</td>\n",
       "      <td>...</td>\n",
       "      <td>...</td>\n",
       "      <td>...</td>\n",
       "      <td>...</td>\n",
       "      <td>...</td>\n",
       "      <td>...</td>\n",
       "      <td>...</td>\n",
       "      <td>...</td>\n",
       "    </tr>\n",
       "    <tr>\n",
       "      <th>433925</th>\n",
       "      <td>2019</td>\n",
       "      <td>5001210</td>\n",
       "      <td>NaN</td>\n",
       "      <td>NaN</td>\n",
       "      <td>NaN</td>\n",
       "      <td>NaN</td>\n",
       "      <td>NaN</td>\n",
       "      <td>NaN</td>\n",
       "      <td>NaN</td>\n",
       "    </tr>\n",
       "    <tr>\n",
       "      <th>433926</th>\n",
       "      <td>2019</td>\n",
       "      <td>5001283</td>\n",
       "      <td>NaN</td>\n",
       "      <td>NaN</td>\n",
       "      <td>NaN</td>\n",
       "      <td>NaN</td>\n",
       "      <td>NaN</td>\n",
       "      <td>NaN</td>\n",
       "      <td>NaN</td>\n",
       "    </tr>\n",
       "    <tr>\n",
       "      <th>433927</th>\n",
       "      <td>2019</td>\n",
       "      <td>83604</td>\n",
       "      <td>NaN</td>\n",
       "      <td>NaN</td>\n",
       "      <td>NaN</td>\n",
       "      <td>NaN</td>\n",
       "      <td>NaN</td>\n",
       "      <td>NaN</td>\n",
       "      <td>NaN</td>\n",
       "    </tr>\n",
       "    <tr>\n",
       "      <th>433928</th>\n",
       "      <td>2019</td>\n",
       "      <td>83604</td>\n",
       "      <td>NaN</td>\n",
       "      <td>NaN</td>\n",
       "      <td>NaN</td>\n",
       "      <td>NaN</td>\n",
       "      <td>NaN</td>\n",
       "      <td>NaN</td>\n",
       "      <td>NaN</td>\n",
       "    </tr>\n",
       "    <tr>\n",
       "      <th>433929</th>\n",
       "      <td>2019</td>\n",
       "      <td>83604</td>\n",
       "      <td>NaN</td>\n",
       "      <td>NaN</td>\n",
       "      <td>NaN</td>\n",
       "      <td>NaN</td>\n",
       "      <td>NaN</td>\n",
       "      <td>NaN</td>\n",
       "      <td>NaN</td>\n",
       "    </tr>\n",
       "  </tbody>\n",
       "</table>\n",
       "<p>3037510 rows × 9 columns</p>\n",
       "</div>"
      ],
      "text/plain": [
       "        NU_ANO  CO_CURSO QE_I02 QE_I08 QE_I05  NU_IDADE TP_SEXO QE_I04 QE_I01\n",
       "0         2019      5221      A    NaN    NaN       NaN     NaN    NaN    NaN\n",
       "1         2019      7712      A    NaN    NaN       NaN     NaN    NaN    NaN\n",
       "2         2019      9264      A    NaN    NaN       NaN     NaN    NaN    NaN\n",
       "3         2019      9733      A    NaN    NaN       NaN     NaN    NaN    NaN\n",
       "4         2019     12570      A    NaN    NaN       NaN     NaN    NaN    NaN\n",
       "...        ...       ...    ...    ...    ...       ...     ...    ...    ...\n",
       "433925    2019   5001210    NaN    NaN    NaN       NaN     NaN    NaN    NaN\n",
       "433926    2019   5001283    NaN    NaN    NaN       NaN     NaN    NaN    NaN\n",
       "433927    2019     83604    NaN    NaN    NaN       NaN     NaN    NaN    NaN\n",
       "433928    2019     83604    NaN    NaN    NaN       NaN     NaN    NaN    NaN\n",
       "433929    2019     83604    NaN    NaN    NaN       NaN     NaN    NaN    NaN\n",
       "\n",
       "[3037510 rows x 9 columns]"
      ]
     },
     "execution_count": 6,
     "metadata": {},
     "output_type": "execute_result"
    }
   ],
   "source": [
    "df"
   ]
  },
  {
   "cell_type": "code",
   "execution_count": 5,
   "metadata": {},
   "outputs": [
    {
     "name": "stdout",
     "output_type": "stream",
     "text": [
      "<class 'pandas.core.frame.DataFrame'>\n",
      "Int64Index: 4773230 entries, 0 to 433929\n",
      "Data columns (total 13 columns):\n",
      " #   Column    Dtype  \n",
      "---  ------    -----  \n",
      " 0   NU_ANO    int64  \n",
      " 1   CO_CURSO  int64  \n",
      " 2   QE_I11    object \n",
      " 3   QE_I02    object \n",
      " 4   QE_I08    object \n",
      " 5   QE_I10    object \n",
      " 6   QE_I25    object \n",
      " 7   QE_I14    object \n",
      " 8   QE_I05    object \n",
      " 9   NU_IDADE  float64\n",
      " 10  QE_I19    object \n",
      " 11  QE_I18    object \n",
      " 12  QE_I06    object \n",
      "dtypes: float64(1), int64(2), object(10)\n",
      "memory usage: 509.8+ MB\n"
     ]
    }
   ],
   "source": [
    "# 1) 4339300 \n",
    "# 1) 4773230  \n",
    "# 5207160  \n",
    "df.info()"
   ]
  }
 ],
 "metadata": {
  "kernelspec": {
   "display_name": "env",
   "language": "python",
   "name": "python3"
  },
  "language_info": {
   "codemirror_mode": {
    "name": "ipython",
    "version": 3
   },
   "file_extension": ".py",
   "mimetype": "text/x-python",
   "name": "python",
   "nbconvert_exporter": "python",
   "pygments_lexer": "ipython3",
   "version": "3.8.10"
  },
  "orig_nbformat": 4,
  "vscode": {
   "interpreter": {
    "hash": "fabcaa27ca0f3e1b114f2319c4ee2f7bc49f242b0ccaa1f7d9b13b950e6bf550"
   }
  }
 },
 "nbformat": 4,
 "nbformat_minor": 2
}
