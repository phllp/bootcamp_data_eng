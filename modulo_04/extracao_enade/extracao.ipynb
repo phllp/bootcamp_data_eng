{
 "cells": [
  {
   "attachments": {},
   "cell_type": "markdown",
   "metadata": {},
   "source": [
    "# Extracao de dados do ENADE"
   ]
  },
  {
   "cell_type": "code",
   "execution_count": 1,
   "metadata": {},
   "outputs": [],
   "source": [
    "import pandas as pd\n",
    "import numpy as np\n",
    "import zipfile\n",
    "import requests\n",
    "from io import BytesIO\n",
    "import os"
   ]
  },
  {
   "cell_type": "code",
   "execution_count": 4,
   "metadata": {},
   "outputs": [],
   "source": [
    "os.makedirs('./enade2019', exist_ok=True)"
   ]
  },
  {
   "cell_type": "code",
   "execution_count": 9,
   "metadata": {},
   "outputs": [
    {
     "name": "stderr",
     "output_type": "stream",
     "text": [
      "/home/phllp/dev/bootcamp_data_eng/modulo_04/extracao_enade/env/lib/python3.8/site-packages/urllib3/connectionpool.py:1045: InsecureRequestWarning: Unverified HTTPS request is being made to host 'download.inep.gov.br'. Adding certificate verification is strongly advised. See: https://urllib3.readthedocs.io/en/1.26.x/advanced-usage.html#ssl-warnings\n",
      "  warnings.warn(\n"
     ]
    }
   ],
   "source": [
    "# Endereço para download\n",
    "url = 'https://download.inep.gov.br/microdados/microdados_enade_2019_LGPD.zip'\n",
    "\n",
    "# Execução do download\n",
    "filebytes = BytesIO(\n",
    "  requests.get(url, verify=False).content\n",
    ")\n",
    "\n",
    "# Extração do ZIP\n",
    "myzip = zipfile.ZipFile(filebytes)\n",
    "myzip.extractall('./enade2019')"
   ]
  },
  {
   "attachments": {},
   "cell_type": "markdown",
   "metadata": {},
   "source": [
    "## Verificando dados baixados"
   ]
  },
  {
   "cell_type": "code",
   "execution_count": 4,
   "metadata": {},
   "outputs": [],
   "source": [
    "PATH = r'./enade2019/microdados_Enade_2019_LGPD/2. DADOS'\n",
    "lista_path = os.listdir(PATH) \n",
    "\n",
    "lista_df = [] # cria uma lista vazia\n",
    "for arquivo in lista_path[:11]:\n",
    "    local_arquivo = os.path.join(PATH, arquivo)\n",
    "    df = pd.read_csv(local_arquivo, sep = ';', low_memory=True, decimal=',')\n",
    "    lista_df.append(df)\n",
    "df = pd.concat(lista_df) "
   ]
  },
  {
   "cell_type": "code",
   "execution_count": 5,
   "metadata": {},
   "outputs": [
    {
     "name": "stdout",
     "output_type": "stream",
     "text": [
      "<class 'pandas.core.frame.DataFrame'>\n",
      "Int64Index: 4773230 entries, 0 to 433929\n",
      "Data columns (total 13 columns):\n",
      " #   Column    Dtype  \n",
      "---  ------    -----  \n",
      " 0   NU_ANO    int64  \n",
      " 1   CO_CURSO  int64  \n",
      " 2   QE_I11    object \n",
      " 3   QE_I02    object \n",
      " 4   QE_I08    object \n",
      " 5   QE_I10    object \n",
      " 6   QE_I25    object \n",
      " 7   QE_I14    object \n",
      " 8   QE_I05    object \n",
      " 9   NU_IDADE  float64\n",
      " 10  QE_I19    object \n",
      " 11  QE_I18    object \n",
      " 12  QE_I06    object \n",
      "dtypes: float64(1), int64(2), object(10)\n",
      "memory usage: 509.8+ MB\n"
     ]
    }
   ],
   "source": [
    "# 1) 4339300 \n",
    "# 1) 4773230  \n",
    "# 5207160  \n",
    "df.info()"
   ]
  }
 ],
 "metadata": {
  "kernelspec": {
   "display_name": "env",
   "language": "python",
   "name": "python3"
  },
  "language_info": {
   "codemirror_mode": {
    "name": "ipython",
    "version": 3
   },
   "file_extension": ".py",
   "mimetype": "text/x-python",
   "name": "python",
   "nbconvert_exporter": "python",
   "pygments_lexer": "ipython3",
   "version": "3.8.10 (default, Nov 14 2022, 12:59:47) \n[GCC 9.4.0]"
  },
  "orig_nbformat": 4,
  "vscode": {
   "interpreter": {
    "hash": "0a754c245868c7ef98bb01542da3d12a2971abe8903b5cdbdaa2a4c5356d84f3"
   }
  }
 },
 "nbformat": 4,
 "nbformat_minor": 2
}
