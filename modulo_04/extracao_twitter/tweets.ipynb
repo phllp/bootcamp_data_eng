{
 "cells": [
  {
   "cell_type": "code",
   "execution_count": 6,
   "metadata": {},
   "outputs": [],
   "source": [
    "import pandas as pd\n",
    "import json"
   ]
  },
  {
   "attachments": {},
   "cell_type": "markdown",
   "metadata": {},
   "source": [
    "# Extracao de dados do Twitter"
   ]
  },
  {
   "cell_type": "code",
   "execution_count": 33,
   "metadata": {},
   "outputs": [
    {
     "data": {
      "text/plain": [
       "[{'edit_history_tweet_ids': ['1617569547694866432'],\n",
       "  'id': '1617569547694866432',\n",
       "  'text': 'NFL🏈❗️❗️\\nBookmaker SportsbetIO!\\n\\nPhiladelphia Eagles vs San Francisco 49ers\\nAs probabilidades de Philadelphia Eagles ganhar são de 1.7x👑\\nAs probabilidades de San Francisco 49ers ganhar são de 2.26x🎖🎖\\nhttps://t.co/NDkfUunGJ1\\n\\n#NFL https://t.co/cCmhHr9hJh'},\n",
       " {'edit_history_tweet_ids': ['1617568277894397952'],\n",
       "  'id': '1617568277894397952',\n",
       "  'text': '@pepenarduchi @ricardommlima A defesa dos Eagles é boa, mas não é melhor que a dos 49ers NEM FUDENDO... estamos falando de uma das melhores defesas da década, pelo amor de Deus po kkkkkkkkk'},\n",
       " {'edit_history_tweet_ids': ['1617567679757402117'],\n",
       "  'id': '1617567679757402117',\n",
       "  'text': 'Q time senhores, estão me iludindo com sucesso 😊 https://t.co/jpSxG4Nbab'},\n",
       " {'edit_history_tweet_ids': ['1617567450165395483'],\n",
       "  'id': '1617567450165395483',\n",
       "  'text': 'Se algum dia eu questionei a troca por este homem, eu estava louca\\nO cara é um monstro nesse backfield https://t.co/B6e94kTFRh'},\n",
       " {'edit_history_tweet_ids': ['1617567051186421781'],\n",
       "  'id': '1617567051186421781',\n",
       "  'text': '@na_tipster O 49ers só vai ter qb bom quando esse time desmontar pra liga ser justa kkkkkk'},\n",
       " {'edit_history_tweet_ids': ['1617566519659053064'],\n",
       "  'id': '1617566519659053064',\n",
       "  'text': 'Vitória dos 49ers no domingo e a peita deles chegando hoje. Semana começou bem.'},\n",
       " {'edit_history_tweet_ids': ['1617566105672859661'],\n",
       "  'id': '1617566105672859661',\n",
       "  'text': 'Aquele time bosta do 49ers na final de novo e os Packers nem no Wild Card\\n\\nCoisa de loko'},\n",
       " {'edit_history_tweet_ids': ['1617564216306667522'],\n",
       "  'id': '1617564216306667522',\n",
       "  'text': '@JottaLira7 @49ers Só na fé pra passar Joe \"Cool\" Montana. Mas acreditemos'},\n",
       " {'edit_history_tweet_ids': ['1617563253814743047'],\n",
       "  'id': '1617563253814743047',\n",
       "  'text': '@SF49ersBrasil Muita gente falou exatamente isso ano passado e o Jimmy G voltou jogando bem até acontecer a lesão.\\nPurdy é bom e será melhor ainda, verdadeiro futuro do 49ers.\\nMas, jogar ele na fogueira ano que vem sem um QB experiente para orientar é querer queimar o cara e perder uns 2 SBs.'},\n",
       " {'edit_history_tweet_ids': ['1617563087196008449'],\n",
       "  'id': '1617563087196008449',\n",
       "  'text': 'nossa eu quero mt que o @49ers  amasse o eagles'}]"
      ]
     },
     "execution_count": 33,
     "metadata": {},
     "output_type": "execute_result"
    }
   ],
   "source": [
    "with open('/home/phllp/dev/bootcamp_data_eng/modulo_04/extracao_twitter/results/colected_tweets_2023-01-23-14-07-42.txt', 'r') as file:\n",
    "  tweets = file.readlines()\n",
    "  j = json.dumps(tweets)\n",
    "  j = json.loads(json.loads(j)[0])\n",
    "  file.close()\n",
    "\n",
    "\n",
    "j['data']\n"
   ]
  }
 ],
 "metadata": {
  "kernelspec": {
   "display_name": "env",
   "language": "python",
   "name": "python3"
  },
  "language_info": {
   "codemirror_mode": {
    "name": "ipython",
    "version": 3
   },
   "file_extension": ".py",
   "mimetype": "text/x-python",
   "name": "python",
   "nbconvert_exporter": "python",
   "pygments_lexer": "ipython3",
   "version": "3.8.10"
  },
  "orig_nbformat": 4,
  "vscode": {
   "interpreter": {
    "hash": "c92a29b586350f699c96757148ff0acae3c362d5b7e8c057d959a077e4f982d9"
   }
  }
 },
 "nbformat": 4,
 "nbformat_minor": 2
}
