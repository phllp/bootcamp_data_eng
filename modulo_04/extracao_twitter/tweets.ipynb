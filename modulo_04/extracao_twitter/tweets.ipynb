{
 "cells": [
  {
   "attachments": {},
   "cell_type": "markdown",
   "metadata": {},
   "source": [
    "# Extracao de dados do Twitter"
   ]
  },
  {
   "cell_type": "code",
   "execution_count": 2,
   "metadata": {},
   "outputs": [
    {
     "name": "stdout",
     "output_type": "stream",
     "text": [
      "Traceback (most recent call last):\n",
      "  File \"get_tweets.py\", line 2, in <module>\n",
      "    from tweepy import OAuthHandler, Stream, StreamListener\n",
      "  File \"/home/phllp/dev/bootcamp_data_eng/modulo_04/extracao_twitter/env/lib/python3.8/site-packages/tweepy/__init__.py\", line 17, in <module>\n",
      "    from tweepy.streaming import Stream, StreamListener\n",
      "  File \"/home/phllp/dev/bootcamp_data_eng/modulo_04/extracao_twitter/env/lib/python3.8/site-packages/tweepy/streaming.py\", line 332\n",
      "    def _start(self, async):\n",
      "                     ^\n",
      "SyntaxError: invalid syntax\n"
     ]
    }
   ],
   "source": [
    "!python get_tweets.py"
   ]
  }
 ],
 "metadata": {
  "kernelspec": {
   "display_name": "env",
   "language": "python",
   "name": "python3"
  },
  "language_info": {
   "codemirror_mode": {
    "name": "ipython",
    "version": 3
   },
   "file_extension": ".py",
   "mimetype": "text/x-python",
   "name": "python",
   "nbconvert_exporter": "python",
   "pygments_lexer": "ipython3",
   "version": "3.8.10 (default, Nov 14 2022, 12:59:47) \n[GCC 9.4.0]"
  },
  "orig_nbformat": 4,
  "vscode": {
   "interpreter": {
    "hash": "c92a29b586350f699c96757148ff0acae3c362d5b7e8c057d959a077e4f982d9"
   }
  }
 },
 "nbformat": 4,
 "nbformat_minor": 2
}
