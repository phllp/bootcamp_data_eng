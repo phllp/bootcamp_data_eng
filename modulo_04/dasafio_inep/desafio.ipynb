{
 "cells": [
  {
   "cell_type": "code",
   "execution_count": 1,
   "metadata": {},
   "outputs": [],
   "source": [
    "import pandas as pd\n",
    "import requests\n",
    "from zipfile import ZipFile\n",
    "from io import BytesIO\n",
    "import os"
   ]
  },
  {
   "cell_type": "code",
   "execution_count": 3,
   "metadata": {},
   "outputs": [],
   "source": [
    "os.makedirs('./enem_2020', exist_ok=True)"
   ]
  },
  {
   "cell_type": "code",
   "execution_count": 7,
   "metadata": {},
   "outputs": [
    {
     "name": "stderr",
     "output_type": "stream",
     "text": [
      "/home/phllp/dev/bootcamp_data_eng/env/lib/python3.8/site-packages/urllib3/connectionpool.py:1045: InsecureRequestWarning: Unverified HTTPS request is being made to host 'download.inep.gov.br'. Adding certificate verification is strongly advised. See: https://urllib3.readthedocs.io/en/1.26.x/advanced-usage.html#ssl-warnings\n",
      "  warnings.warn(\n"
     ]
    }
   ],
   "source": [
    "url = 'https://download.inep.gov.br/microdados/microdados_enem_2020.zip'\n",
    "\n",
    "filebytes = BytesIO(requests.get(url, verify=False).content)\n",
    "\n",
    "myzip =  ZipFile(filebytes)\n",
    "myzip.extractall('./enem_2020')"
   ]
  },
  {
   "cell_type": "code",
   "execution_count": 3,
   "metadata": {},
   "outputs": [
    {
     "data": {
      "text/html": [
       "<div>\n",
       "<style scoped>\n",
       "    .dataframe tbody tr th:only-of-type {\n",
       "        vertical-align: middle;\n",
       "    }\n",
       "\n",
       "    .dataframe tbody tr th {\n",
       "        vertical-align: top;\n",
       "    }\n",
       "\n",
       "    .dataframe thead th {\n",
       "        text-align: right;\n",
       "    }\n",
       "</style>\n",
       "<table border=\"1\" class=\"dataframe\">\n",
       "  <thead>\n",
       "    <tr style=\"text-align: right;\">\n",
       "      <th></th>\n",
       "      <th>NU_INSCRICAO</th>\n",
       "      <th>NU_ANO</th>\n",
       "      <th>TP_FAIXA_ETARIA</th>\n",
       "      <th>TP_SEXO</th>\n",
       "      <th>TP_ESTADO_CIVIL</th>\n",
       "      <th>TP_COR_RACA</th>\n",
       "      <th>TP_NACIONALIDADE</th>\n",
       "      <th>TP_ST_CONCLUSAO</th>\n",
       "      <th>TP_ANO_CONCLUIU</th>\n",
       "      <th>TP_ESCOLA</th>\n",
       "      <th>...</th>\n",
       "      <th>Q016</th>\n",
       "      <th>Q017</th>\n",
       "      <th>Q018</th>\n",
       "      <th>Q019</th>\n",
       "      <th>Q020</th>\n",
       "      <th>Q021</th>\n",
       "      <th>Q022</th>\n",
       "      <th>Q023</th>\n",
       "      <th>Q024</th>\n",
       "      <th>Q025</th>\n",
       "    </tr>\n",
       "  </thead>\n",
       "  <tbody>\n",
       "    <tr>\n",
       "      <th>0</th>\n",
       "      <td>200006271946</td>\n",
       "      <td>2020</td>\n",
       "      <td>11</td>\n",
       "      <td>F</td>\n",
       "      <td>1</td>\n",
       "      <td>2</td>\n",
       "      <td>1</td>\n",
       "      <td>1</td>\n",
       "      <td>11</td>\n",
       "      <td>1</td>\n",
       "      <td>...</td>\n",
       "      <td>NaN</td>\n",
       "      <td>NaN</td>\n",
       "      <td>NaN</td>\n",
       "      <td>NaN</td>\n",
       "      <td>NaN</td>\n",
       "      <td>NaN</td>\n",
       "      <td>NaN</td>\n",
       "      <td>NaN</td>\n",
       "      <td>NaN</td>\n",
       "      <td>NaN</td>\n",
       "    </tr>\n",
       "    <tr>\n",
       "      <th>1</th>\n",
       "      <td>200001195856</td>\n",
       "      <td>2020</td>\n",
       "      <td>11</td>\n",
       "      <td>M</td>\n",
       "      <td>2</td>\n",
       "      <td>3</td>\n",
       "      <td>1</td>\n",
       "      <td>1</td>\n",
       "      <td>11</td>\n",
       "      <td>1</td>\n",
       "      <td>...</td>\n",
       "      <td>NaN</td>\n",
       "      <td>NaN</td>\n",
       "      <td>NaN</td>\n",
       "      <td>NaN</td>\n",
       "      <td>NaN</td>\n",
       "      <td>NaN</td>\n",
       "      <td>NaN</td>\n",
       "      <td>NaN</td>\n",
       "      <td>NaN</td>\n",
       "      <td>NaN</td>\n",
       "    </tr>\n",
       "    <tr>\n",
       "      <th>2</th>\n",
       "      <td>200001943954</td>\n",
       "      <td>2020</td>\n",
       "      <td>4</td>\n",
       "      <td>F</td>\n",
       "      <td>2</td>\n",
       "      <td>3</td>\n",
       "      <td>2</td>\n",
       "      <td>2</td>\n",
       "      <td>0</td>\n",
       "      <td>2</td>\n",
       "      <td>...</td>\n",
       "      <td>B</td>\n",
       "      <td>A</td>\n",
       "      <td>A</td>\n",
       "      <td>B</td>\n",
       "      <td>A</td>\n",
       "      <td>A</td>\n",
       "      <td>A</td>\n",
       "      <td>A</td>\n",
       "      <td>A</td>\n",
       "      <td>A</td>\n",
       "    </tr>\n",
       "    <tr>\n",
       "      <th>3</th>\n",
       "      <td>200001908998</td>\n",
       "      <td>2020</td>\n",
       "      <td>2</td>\n",
       "      <td>M</td>\n",
       "      <td>1</td>\n",
       "      <td>3</td>\n",
       "      <td>1</td>\n",
       "      <td>2</td>\n",
       "      <td>0</td>\n",
       "      <td>2</td>\n",
       "      <td>...</td>\n",
       "      <td>NaN</td>\n",
       "      <td>NaN</td>\n",
       "      <td>NaN</td>\n",
       "      <td>NaN</td>\n",
       "      <td>NaN</td>\n",
       "      <td>NaN</td>\n",
       "      <td>NaN</td>\n",
       "      <td>NaN</td>\n",
       "      <td>NaN</td>\n",
       "      <td>NaN</td>\n",
       "    </tr>\n",
       "    <tr>\n",
       "      <th>4</th>\n",
       "      <td>200001634757</td>\n",
       "      <td>2020</td>\n",
       "      <td>4</td>\n",
       "      <td>F</td>\n",
       "      <td>1</td>\n",
       "      <td>3</td>\n",
       "      <td>2</td>\n",
       "      <td>1</td>\n",
       "      <td>1</td>\n",
       "      <td>1</td>\n",
       "      <td>...</td>\n",
       "      <td>A</td>\n",
       "      <td>A</td>\n",
       "      <td>A</td>\n",
       "      <td>B</td>\n",
       "      <td>A</td>\n",
       "      <td>B</td>\n",
       "      <td>B</td>\n",
       "      <td>A</td>\n",
       "      <td>A</td>\n",
       "      <td>B</td>\n",
       "    </tr>\n",
       "    <tr>\n",
       "      <th>...</th>\n",
       "      <td>...</td>\n",
       "      <td>...</td>\n",
       "      <td>...</td>\n",
       "      <td>...</td>\n",
       "      <td>...</td>\n",
       "      <td>...</td>\n",
       "      <td>...</td>\n",
       "      <td>...</td>\n",
       "      <td>...</td>\n",
       "      <td>...</td>\n",
       "      <td>...</td>\n",
       "      <td>...</td>\n",
       "      <td>...</td>\n",
       "      <td>...</td>\n",
       "      <td>...</td>\n",
       "      <td>...</td>\n",
       "      <td>...</td>\n",
       "      <td>...</td>\n",
       "      <td>...</td>\n",
       "      <td>...</td>\n",
       "      <td>...</td>\n",
       "    </tr>\n",
       "    <tr>\n",
       "      <th>99995</th>\n",
       "      <td>200006422434</td>\n",
       "      <td>2020</td>\n",
       "      <td>2</td>\n",
       "      <td>M</td>\n",
       "      <td>1</td>\n",
       "      <td>3</td>\n",
       "      <td>1</td>\n",
       "      <td>2</td>\n",
       "      <td>0</td>\n",
       "      <td>2</td>\n",
       "      <td>...</td>\n",
       "      <td>A</td>\n",
       "      <td>A</td>\n",
       "      <td>A</td>\n",
       "      <td>B</td>\n",
       "      <td>B</td>\n",
       "      <td>A</td>\n",
       "      <td>C</td>\n",
       "      <td>A</td>\n",
       "      <td>A</td>\n",
       "      <td>A</td>\n",
       "    </tr>\n",
       "    <tr>\n",
       "      <th>99996</th>\n",
       "      <td>200002731648</td>\n",
       "      <td>2020</td>\n",
       "      <td>11</td>\n",
       "      <td>F</td>\n",
       "      <td>1</td>\n",
       "      <td>2</td>\n",
       "      <td>1</td>\n",
       "      <td>1</td>\n",
       "      <td>0</td>\n",
       "      <td>1</td>\n",
       "      <td>...</td>\n",
       "      <td>B</td>\n",
       "      <td>A</td>\n",
       "      <td>A</td>\n",
       "      <td>B</td>\n",
       "      <td>A</td>\n",
       "      <td>A</td>\n",
       "      <td>D</td>\n",
       "      <td>A</td>\n",
       "      <td>A</td>\n",
       "      <td>B</td>\n",
       "    </tr>\n",
       "    <tr>\n",
       "      <th>99997</th>\n",
       "      <td>200006641817</td>\n",
       "      <td>2020</td>\n",
       "      <td>3</td>\n",
       "      <td>M</td>\n",
       "      <td>1</td>\n",
       "      <td>1</td>\n",
       "      <td>1</td>\n",
       "      <td>1</td>\n",
       "      <td>1</td>\n",
       "      <td>1</td>\n",
       "      <td>...</td>\n",
       "      <td>B</td>\n",
       "      <td>A</td>\n",
       "      <td>A</td>\n",
       "      <td>B</td>\n",
       "      <td>A</td>\n",
       "      <td>B</td>\n",
       "      <td>E</td>\n",
       "      <td>B</td>\n",
       "      <td>B</td>\n",
       "      <td>B</td>\n",
       "    </tr>\n",
       "    <tr>\n",
       "      <th>99998</th>\n",
       "      <td>200005653273</td>\n",
       "      <td>2020</td>\n",
       "      <td>5</td>\n",
       "      <td>M</td>\n",
       "      <td>1</td>\n",
       "      <td>3</td>\n",
       "      <td>1</td>\n",
       "      <td>2</td>\n",
       "      <td>0</td>\n",
       "      <td>2</td>\n",
       "      <td>...</td>\n",
       "      <td>NaN</td>\n",
       "      <td>NaN</td>\n",
       "      <td>NaN</td>\n",
       "      <td>NaN</td>\n",
       "      <td>NaN</td>\n",
       "      <td>NaN</td>\n",
       "      <td>NaN</td>\n",
       "      <td>NaN</td>\n",
       "      <td>NaN</td>\n",
       "      <td>NaN</td>\n",
       "    </tr>\n",
       "    <tr>\n",
       "      <th>99999</th>\n",
       "      <td>200006019858</td>\n",
       "      <td>2020</td>\n",
       "      <td>3</td>\n",
       "      <td>M</td>\n",
       "      <td>1</td>\n",
       "      <td>1</td>\n",
       "      <td>1</td>\n",
       "      <td>2</td>\n",
       "      <td>0</td>\n",
       "      <td>2</td>\n",
       "      <td>...</td>\n",
       "      <td>A</td>\n",
       "      <td>A</td>\n",
       "      <td>A</td>\n",
       "      <td>B</td>\n",
       "      <td>A</td>\n",
       "      <td>A</td>\n",
       "      <td>C</td>\n",
       "      <td>A</td>\n",
       "      <td>B</td>\n",
       "      <td>A</td>\n",
       "    </tr>\n",
       "  </tbody>\n",
       "</table>\n",
       "<p>100000 rows × 76 columns</p>\n",
       "</div>"
      ],
      "text/plain": [
       "       NU_INSCRICAO  NU_ANO  TP_FAIXA_ETARIA TP_SEXO  TP_ESTADO_CIVIL  \\\n",
       "0      200006271946    2020               11       F                1   \n",
       "1      200001195856    2020               11       M                2   \n",
       "2      200001943954    2020                4       F                2   \n",
       "3      200001908998    2020                2       M                1   \n",
       "4      200001634757    2020                4       F                1   \n",
       "...             ...     ...              ...     ...              ...   \n",
       "99995  200006422434    2020                2       M                1   \n",
       "99996  200002731648    2020               11       F                1   \n",
       "99997  200006641817    2020                3       M                1   \n",
       "99998  200005653273    2020                5       M                1   \n",
       "99999  200006019858    2020                3       M                1   \n",
       "\n",
       "       TP_COR_RACA  TP_NACIONALIDADE  TP_ST_CONCLUSAO  TP_ANO_CONCLUIU  \\\n",
       "0                2                 1                1               11   \n",
       "1                3                 1                1               11   \n",
       "2                3                 2                2                0   \n",
       "3                3                 1                2                0   \n",
       "4                3                 2                1                1   \n",
       "...            ...               ...              ...              ...   \n",
       "99995            3                 1                2                0   \n",
       "99996            2                 1                1                0   \n",
       "99997            1                 1                1                1   \n",
       "99998            3                 1                2                0   \n",
       "99999            1                 1                2                0   \n",
       "\n",
       "       TP_ESCOLA  ...  Q016  Q017  Q018 Q019  Q020 Q021  Q022  Q023  Q024  \\\n",
       "0              1  ...   NaN   NaN   NaN  NaN   NaN  NaN   NaN   NaN   NaN   \n",
       "1              1  ...   NaN   NaN   NaN  NaN   NaN  NaN   NaN   NaN   NaN   \n",
       "2              2  ...     B     A     A    B     A    A     A     A     A   \n",
       "3              2  ...   NaN   NaN   NaN  NaN   NaN  NaN   NaN   NaN   NaN   \n",
       "4              1  ...     A     A     A    B     A    B     B     A     A   \n",
       "...          ...  ...   ...   ...   ...  ...   ...  ...   ...   ...   ...   \n",
       "99995          2  ...     A     A     A    B     B    A     C     A     A   \n",
       "99996          1  ...     B     A     A    B     A    A     D     A     A   \n",
       "99997          1  ...     B     A     A    B     A    B     E     B     B   \n",
       "99998          2  ...   NaN   NaN   NaN  NaN   NaN  NaN   NaN   NaN   NaN   \n",
       "99999          2  ...     A     A     A    B     A    A     C     A     B   \n",
       "\n",
       "       Q025  \n",
       "0       NaN  \n",
       "1       NaN  \n",
       "2         A  \n",
       "3       NaN  \n",
       "4         B  \n",
       "...     ...  \n",
       "99995     A  \n",
       "99996     B  \n",
       "99997     B  \n",
       "99998   NaN  \n",
       "99999     A  \n",
       "\n",
       "[100000 rows x 76 columns]"
      ]
     },
     "execution_count": 3,
     "metadata": {},
     "output_type": "execute_result"
    }
   ],
   "source": [
    "path = '/home/phllp/dev/bootcamp_data_eng/modulo_04/dasafio_inep/enem_2020/DADOS/MICRODADOS_ENEM_2020.csv'\n",
    "df = pd.read_csv(\n",
    "  filepath_or_buffer=path, \n",
    "  delimiter=';', \n",
    "  decimal=',',\n",
    "  encoding_errors='ignore',\n",
    "  nrows=100000)\n",
    "df"
   ]
  },
  {
   "cell_type": "code",
   "execution_count": 5,
   "metadata": {},
   "outputs": [
    {
     "data": {
      "text/html": [
       "<div>\n",
       "<style scoped>\n",
       "    .dataframe tbody tr th:only-of-type {\n",
       "        vertical-align: middle;\n",
       "    }\n",
       "\n",
       "    .dataframe tbody tr th {\n",
       "        vertical-align: top;\n",
       "    }\n",
       "\n",
       "    .dataframe thead th {\n",
       "        text-align: right;\n",
       "    }\n",
       "</style>\n",
       "<table border=\"1\" class=\"dataframe\">\n",
       "  <thead>\n",
       "    <tr style=\"text-align: right;\">\n",
       "      <th></th>\n",
       "      <th>TP_SEXO</th>\n",
       "      <th>TP_ESCOLA</th>\n",
       "      <th>CO_MUNICIPIO_ESC</th>\n",
       "      <th>CO_UF_ESC</th>\n",
       "      <th>NU_NOTA_MT</th>\n",
       "    </tr>\n",
       "  </thead>\n",
       "  <tbody>\n",
       "    <tr>\n",
       "      <th>0</th>\n",
       "      <td>F</td>\n",
       "      <td>1</td>\n",
       "      <td>NaN</td>\n",
       "      <td>NaN</td>\n",
       "      <td>NaN</td>\n",
       "    </tr>\n",
       "    <tr>\n",
       "      <th>1</th>\n",
       "      <td>M</td>\n",
       "      <td>1</td>\n",
       "      <td>NaN</td>\n",
       "      <td>NaN</td>\n",
       "      <td>711.3</td>\n",
       "    </tr>\n",
       "    <tr>\n",
       "      <th>2</th>\n",
       "      <td>F</td>\n",
       "      <td>2</td>\n",
       "      <td>2927408.0</td>\n",
       "      <td>29.0</td>\n",
       "      <td>NaN</td>\n",
       "    </tr>\n",
       "    <tr>\n",
       "      <th>3</th>\n",
       "      <td>M</td>\n",
       "      <td>2</td>\n",
       "      <td>3547304.0</td>\n",
       "      <td>35.0</td>\n",
       "      <td>759.4</td>\n",
       "    </tr>\n",
       "    <tr>\n",
       "      <th>4</th>\n",
       "      <td>F</td>\n",
       "      <td>1</td>\n",
       "      <td>NaN</td>\n",
       "      <td>NaN</td>\n",
       "      <td>NaN</td>\n",
       "    </tr>\n",
       "    <tr>\n",
       "      <th>...</th>\n",
       "      <td>...</td>\n",
       "      <td>...</td>\n",
       "      <td>...</td>\n",
       "      <td>...</td>\n",
       "      <td>...</td>\n",
       "    </tr>\n",
       "    <tr>\n",
       "      <th>5783104</th>\n",
       "      <td>F</td>\n",
       "      <td>2</td>\n",
       "      <td>2304103.0</td>\n",
       "      <td>23.0</td>\n",
       "      <td>725.7</td>\n",
       "    </tr>\n",
       "    <tr>\n",
       "      <th>5783105</th>\n",
       "      <td>M</td>\n",
       "      <td>2</td>\n",
       "      <td>5008305.0</td>\n",
       "      <td>50.0</td>\n",
       "      <td>719.5</td>\n",
       "    </tr>\n",
       "    <tr>\n",
       "      <th>5783106</th>\n",
       "      <td>F</td>\n",
       "      <td>1</td>\n",
       "      <td>NaN</td>\n",
       "      <td>NaN</td>\n",
       "      <td>648.1</td>\n",
       "    </tr>\n",
       "    <tr>\n",
       "      <th>5783107</th>\n",
       "      <td>F</td>\n",
       "      <td>3</td>\n",
       "      <td>5103403.0</td>\n",
       "      <td>51.0</td>\n",
       "      <td>NaN</td>\n",
       "    </tr>\n",
       "    <tr>\n",
       "      <th>5783108</th>\n",
       "      <td>F</td>\n",
       "      <td>2</td>\n",
       "      <td>2111300.0</td>\n",
       "      <td>21.0</td>\n",
       "      <td>481.7</td>\n",
       "    </tr>\n",
       "  </tbody>\n",
       "</table>\n",
       "<p>5783109 rows × 5 columns</p>\n",
       "</div>"
      ],
      "text/plain": [
       "        TP_SEXO  TP_ESCOLA  CO_MUNICIPIO_ESC  CO_UF_ESC NU_NOTA_MT\n",
       "0             F          1               NaN        NaN        NaN\n",
       "1             M          1               NaN        NaN      711.3\n",
       "2             F          2         2927408.0       29.0        NaN\n",
       "3             M          2         3547304.0       35.0      759.4\n",
       "4             F          1               NaN        NaN        NaN\n",
       "...         ...        ...               ...        ...        ...\n",
       "5783104       F          2         2304103.0       23.0      725.7\n",
       "5783105       M          2         5008305.0       50.0      719.5\n",
       "5783106       F          1               NaN        NaN      648.1\n",
       "5783107       F          3         5103403.0       51.0        NaN\n",
       "5783108       F          2         2111300.0       21.0      481.7\n",
       "\n",
       "[5783109 rows x 5 columns]"
      ]
     },
     "execution_count": 5,
     "metadata": {},
     "output_type": "execute_result"
    }
   ],
   "source": [
    "path = '/home/phllp/dev/bootcamp_data_eng/modulo_04/dasafio_inep/enem_2020/DADOS/MICRODADOS_ENEM_2020.csv'\n",
    "cols = [\n",
    "  'TP_SEXO',\n",
    "  'CO_UF_ESC',\n",
    "  'CO_MUNICIPIO_ESC',\n",
    "  'NU_NOTA_MT',\n",
    "  'TP_ESCOLA'\n",
    "]\n",
    "\n",
    "df = pd.read_csv(\n",
    "  filepath_or_buffer=path, \n",
    "  delimiter=';', \n",
    "  decimal=',',\n",
    "  encoding_errors='ignore',\n",
    "  usecols=cols\n",
    "  )\n",
    "df\n"
   ]
  },
  {
   "attachments": {},
   "cell_type": "markdown",
   "metadata": {},
   "source": [
    "# Filtrar apenas os alunos que estudaram em escolas no estado de Minas Gerais"
   ]
  },
  {
   "attachments": {},
   "cell_type": "markdown",
   "metadata": {},
   "source": [
    "- CO_UF_ESC: Código da Unidade da Federação da escola\n",
    "- Código IBGE Minas Gerais = 31"
   ]
  },
  {
   "cell_type": "code",
   "execution_count": 6,
   "metadata": {},
   "outputs": [],
   "source": [
    "df_mg = df.loc[df['CO_UF_ESC'] == 31.0]"
   ]
  },
  {
   "attachments": {},
   "cell_type": "markdown",
   "metadata": {},
   "source": [
    "### 1) Qual é a média da nota em matemática dos alunos que estudaram numa escola em Minas Gerais?"
   ]
  },
  {
   "attachments": {},
   "cell_type": "markdown",
   "metadata": {},
   "source": [
    "- NU_NOTA_MT: Nota da prova de Matemática"
   ]
  },
  {
   "cell_type": "code",
   "execution_count": 22,
   "metadata": {},
   "outputs": [
    {
     "name": "stdout",
     "output_type": "stream",
     "text": [
      "Media = 579.6812230047448\n"
     ]
    }
   ],
   "source": [
    "media = pd.to_numeric(df_mg['NU_NOTA_MT']).mean()\n",
    "print(f'Media = {media}')"
   ]
  },
  {
   "attachments": {},
   "cell_type": "markdown",
   "metadata": {},
   "source": [
    "### 2) Qual é a média da nota em Linguagens e Códigos dos alunos que estudaram numa escola em Minas Gerais?"
   ]
  },
  {
   "attachments": {},
   "cell_type": "markdown",
   "metadata": {},
   "source": [
    "- NU_NOTA_LC: Nota da prova de Linguagens e Códigos"
   ]
  },
  {
   "cell_type": "code",
   "execution_count": 23,
   "metadata": {},
   "outputs": [
    {
     "name": "stdout",
     "output_type": "stream",
     "text": [
      "Media = 553.0102913021102\n"
     ]
    }
   ],
   "source": [
    "media = pd.to_numeric(df_mg['NU_NOTA_LC']).mean()\n",
    "print(f'Media = {media}')"
   ]
  },
  {
   "attachments": {},
   "cell_type": "markdown",
   "metadata": {},
   "source": [
    "### 3) Qual é a média da nota em Ciências Humanas dos alunos do sexo FEMININO que estudaram numa escola em Minas Gerais?"
   ]
  },
  {
   "attachments": {},
   "cell_type": "markdown",
   "metadata": {},
   "source": [
    "- NU_NOTA_CH: Nota da prova de Ciências Humanas"
   ]
  },
  {
   "cell_type": "code",
   "execution_count": 27,
   "metadata": {},
   "outputs": [
    {
     "name": "stdout",
     "output_type": "stream",
     "text": [
      "Media = 541.3084611723356\n"
     ]
    }
   ],
   "source": [
    "df_fem_mg = df_mg.loc[df_mg['TP_SEXO'] == 'F']\n",
    "media = pd.to_numeric(df_fem_mg['NU_NOTA_CH']).mean()\n",
    "print(f'Media = {media}')"
   ]
  },
  {
   "attachments": {},
   "cell_type": "markdown",
   "metadata": {},
   "source": [
    "### 4) Qual é a média da nota em Ciências Humanas dos alunos do sexo MASCULINO que estudaram numa escola em Minas Gerais?"
   ]
  },
  {
   "cell_type": "code",
   "execution_count": 28,
   "metadata": {},
   "outputs": [
    {
     "name": "stdout",
     "output_type": "stream",
     "text": [
      "Media = 559.5546844135076\n"
     ]
    }
   ],
   "source": [
    "df_fem_mg = df_mg.loc[df_mg['TP_SEXO'] == 'M']\n",
    "media = pd.to_numeric(df_fem_mg['NU_NOTA_CH']).mean()\n",
    "print(f'Media = {media}')"
   ]
  },
  {
   "attachments": {},
   "cell_type": "markdown",
   "metadata": {},
   "source": [
    "### 5) Qual é a média da nota em Matemática dos alunos do sexo FEMININO que estudaram numa escola na cidade de Montes Claros?\n"
   ]
  },
  {
   "attachments": {},
   "cell_type": "markdown",
   "metadata": {},
   "source": [
    "- Codigo de Montes Claros no IBGE: 3143302"
   ]
  },
  {
   "cell_type": "code",
   "execution_count": 38,
   "metadata": {},
   "outputs": [
    {
     "name": "stdout",
     "output_type": "stream",
     "text": [
      "Media = 562.988836104513\n"
     ]
    }
   ],
   "source": [
    "df_montes_claros = df_mg.loc[df_mg['CO_MUNICIPIO_ESC'] == 3143302]\n",
    "df_montes_claros_fem = df_montes_claros.loc[df_mg['TP_SEXO'] == 'F']\n",
    "\n",
    "media = pd.to_numeric(df_montes_claros_fem['NU_NOTA_MT']).mean()\n",
    "print(f'Media = {media}')\n"
   ]
  },
  {
   "attachments": {},
   "cell_type": "markdown",
   "metadata": {},
   "source": [
    "### 6) Qual é a média da nota em Matemática dos alunos que estudaram numa escola no município de Sabará e que possuem TV por assinatura na residência?"
   ]
  },
  {
   "attachments": {},
   "cell_type": "markdown",
   "metadata": {},
   "source": [
    "- Codigo de Sabara: 3156700\n",
    "- NU_NOTA_MT: Nota da prova de Matemática\n",
    "- Q021: Na sua residência tem TV por assinatura?\n",
    "- - A: Nao\n",
    "- - B: Sim"
   ]
  },
  {
   "cell_type": "code",
   "execution_count": 9,
   "metadata": {},
   "outputs": [
    {
     "name": "stdout",
     "output_type": "stream",
     "text": [
      "Media = 580.102985074627\n"
     ]
    }
   ],
   "source": [
    "df_sabara = df_mg.loc[df_mg['CO_MUNICIPIO_ESC'] == 3156700]\n",
    "df_sabara_com_tv =  df_sabara.loc[df_sabara['Q021'] == 'B']\n",
    "\n",
    "media = pd.to_numeric(df_sabara_com_tv['NU_NOTA_MT']).mean()\n",
    "print(f'Media = {media}')"
   ]
  },
  {
   "attachments": {},
   "cell_type": "markdown",
   "metadata": {},
   "source": [
    "### 7) Qual é a média da nota em Ciências Humanas dos alunos que estudaram numa escola em Minas Gerais e que possuem dois fornos micro-ondas em casa?"
   ]
  },
  {
   "attachments": {},
   "cell_type": "markdown",
   "metadata": {},
   "source": [
    "- Q016: Na sua residência tem forno micro-ondas?\n",
    "  - A: Nao\n",
    "  - B: Sim, um\n",
    "  - C: Sim, dois\n",
    "  - D: Sim, tres\n",
    "  - E: Sim, quatro ou mais"
   ]
  },
  {
   "cell_type": "code",
   "execution_count": 14,
   "metadata": {},
   "outputs": [
    {
     "name": "stdout",
     "output_type": "stream",
     "text": [
      "Media = 601.4825757575757\n"
     ]
    }
   ],
   "source": [
    "df_mg_micro_ondas = df_mg.loc[df_mg['Q016'] == 'C']\n",
    "\n",
    "media = pd.to_numeric(df_mg_micro_ondas['NU_NOTA_CH']).mean()\n",
    "print(f'Media = {media}')"
   ]
  },
  {
   "cell_type": "markdown",
   "metadata": {},
   "source": []
  },
  {
   "attachments": {},
   "cell_type": "markdown",
   "metadata": {},
   "source": [
    "### 8) Qual é a nota média em Matemática dos alunos que estudaram numa escola em Minas Gerais e cuja mãe completou a pós-graduação?"
   ]
  },
  {
   "attachments": {},
   "cell_type": "markdown",
   "metadata": {},
   "source": [
    "- NU_NOTA_MT:\n",
    "- Q002: Até que série sua mãe, ou a mulher responsável por você, estudou?\n",
    "  - G: Completou a Pós-graduação.\n"
   ]
  },
  {
   "cell_type": "code",
   "execution_count": 18,
   "metadata": {},
   "outputs": [
    {
     "name": "stdout",
     "output_type": "stream",
     "text": [
      "Media = 642.2451844866204\n"
     ]
    }
   ],
   "source": [
    "df_mg_mae = df_mg.loc[df_mg['Q002'] == 'G']\n",
    "\n",
    "media = pd.to_numeric(df_mg_mae['NU_NOTA_MT']).mean()\n",
    "print(f'Media = {media}')\n"
   ]
  },
  {
   "attachments": {},
   "cell_type": "markdown",
   "metadata": {},
   "source": [
    "### 9) Qual é a nota média em Matemática dos alunos que estudaram numa escola em Belo Horizonte ou em Conselheiro Lafaiete?"
   ]
  },
  {
   "attachments": {},
   "cell_type": "markdown",
   "metadata": {},
   "source": [
    "- Belo Horizonte: 3106200\n",
    "- Conselheiro Lafaiete: 3118304"
   ]
  },
  {
   "cell_type": "code",
   "execution_count": 21,
   "metadata": {},
   "outputs": [
    {
     "name": "stdout",
     "output_type": "stream",
     "text": [
      "Media = 621.0282524049474\n"
     ]
    }
   ],
   "source": [
    "df_municipios = df_mg.loc[df_mg['CO_MUNICIPIO_ESC'].isin([3106200, 3118304])]\n",
    "df_municipios\n",
    "\n",
    "media = pd.to_numeric(df_municipios['NU_NOTA_MT']).mean()\n",
    "print(f'Media = {media}')"
   ]
  },
  {
   "attachments": {},
   "cell_type": "markdown",
   "metadata": {},
   "source": [
    "### 10) Qual é a nota média em Ciências Humanas dos alunos que estudaram numa escola em Minas Gerais e que moram sozinhos?"
   ]
  },
  {
   "attachments": {},
   "cell_type": "markdown",
   "metadata": {},
   "source": [
    "- Q005: Incluindo você, quantas pessoas moram atualmente em sua residência?\n",
    "  - 1: 1, pois moro sozinho(a)."
   ]
  },
  {
   "cell_type": "code",
   "execution_count": 25,
   "metadata": {},
   "outputs": [
    {
     "name": "stdout",
     "output_type": "stream",
     "text": [
      "Media = 537.0544303797469\n"
     ]
    }
   ],
   "source": [
    "df_sozinho = df_mg.loc[df_mg['Q005'] == 1]\n",
    "df_sozinho\n",
    "\n",
    "media = pd.to_numeric(df_sozinho['NU_NOTA_CH']).mean()\n",
    "print(f'Media = {media}')"
   ]
  },
  {
   "attachments": {},
   "cell_type": "markdown",
   "metadata": {},
   "source": [
    "### 11) Qual é a nota média em Ciências Humanas dos alunos que estudaram numa escola em Minas Gerais, cujo pai completou pós-graduação e possuem renda familiar entre R$ 8.360,01 e R$ 9.405,00?"
   ]
  },
  {
   "attachments": {},
   "cell_type": "markdown",
   "metadata": {},
   "source": [
    "- Q006: Qual é a renda mensal de sua família? (Some a sua renda com a dos seus familiares.)\n",
    "  - L: De R$ 8.360,01 até R$ 9.405,00\n",
    "- Q001: Até que série seu pai, ou o homem responsável por você, estudou?  \n",
    "  - G: Completou a Pós-graduação."
   ]
  },
  {
   "cell_type": "code",
   "execution_count": 31,
   "metadata": {},
   "outputs": [
    {
     "name": "stdout",
     "output_type": "stream",
     "text": [
      "Media = 623.9422535211268\n"
     ]
    }
   ],
   "source": [
    "df_renda = df_mg.loc[df_mg['Q006'] == 'L']\n",
    "df_renda_grad = df_renda.loc[df_renda['Q001'] == 'G']\n",
    "\n",
    "\n",
    "media = pd.to_numeric(df_renda_grad['NU_NOTA_CH']).mean()\n",
    "print(f'Media = {media}')"
   ]
  },
  {
   "attachments": {},
   "cell_type": "markdown",
   "metadata": {},
   "source": [
    "### 12) Qual é a nota média em Matemática dos alunos do sexo Feminino que estudaram numa escola em Lavras e escolheram “Espanhol” como língua estrangeira?"
   ]
  },
  {
   "attachments": {},
   "cell_type": "markdown",
   "metadata": {},
   "source": [
    "- Lavras: 3138203\n",
    "- TP_LINGUA: Lingua Estrangeira"
   ]
  },
  {
   "cell_type": "code",
   "execution_count": 35,
   "metadata": {},
   "outputs": [
    {
     "name": "stdout",
     "output_type": "stream",
     "text": [
      "Media = 513.3833333333333\n"
     ]
    }
   ],
   "source": [
    "df_fem_mg = df_mg.loc[df_mg['TP_SEXO'] == 'F']\n",
    "df_fem_lavras = df_fem_mg.loc[df_fem_mg['CO_MUNICIPIO_ESC'] == 3138203]\n",
    "df_fem_lavras_esp = df_fem_lavras.loc[df_fem_lavras['TP_LINGUA'] == 1]\n",
    "\n",
    "\n",
    "media = pd.to_numeric(df_fem_lavras_esp['NU_NOTA_MT']).mean()\n",
    "print(f'Media = {media}')"
   ]
  },
  {
   "attachments": {},
   "cell_type": "markdown",
   "metadata": {},
   "source": [
    "### 13) Qual é a nota média em Matemática dos alunos do sexo Masculino que estudaram numa escola em Ouro Preto?"
   ]
  },
  {
   "attachments": {},
   "cell_type": "markdown",
   "metadata": {},
   "source": [
    "- Ouro Preto: 3146107"
   ]
  },
  {
   "cell_type": "code",
   "execution_count": 36,
   "metadata": {},
   "outputs": [
    {
     "name": "stdout",
     "output_type": "stream",
     "text": [
      "Media = 615.5823529411764\n"
     ]
    }
   ],
   "source": [
    "df_masc_mg = df_mg.loc[df_mg['TP_SEXO'] == 'M']\n",
    "df_masc_ouro_preto = df_masc_mg.loc[df_masc_mg['CO_MUNICIPIO_ESC'] == 3146107]\n",
    "\n",
    "media = pd.to_numeric(df_masc_ouro_preto['NU_NOTA_MT']).mean()\n",
    "print(f'Media = {media}')"
   ]
  },
  {
   "attachments": {},
   "cell_type": "markdown",
   "metadata": {},
   "source": [
    "### 14) Qual é a nota média em Ciências Humanas dos alunos que estudaram numa escola em Minas Gerais e possuem entre 26 e 30 anos?"
   ]
  },
  {
   "attachments": {},
   "cell_type": "markdown",
   "metadata": {},
   "source": [
    "- TP_FAIXA_ETARIA: Faixa Etaria\n",
    "  - 11: Entre 26 e 30 anos"
   ]
  },
  {
   "cell_type": "code",
   "execution_count": 4,
   "metadata": {},
   "outputs": [
    {
     "name": "stdout",
     "output_type": "stream",
     "text": [
      "Media = 473.477922077922\n"
     ]
    }
   ],
   "source": [
    "df_etario = df_mg.loc[df_mg['TP_FAIXA_ETARIA'] == 11]\n",
    "\n",
    "media = pd.to_numeric(df_etario['NU_NOTA_CH']).mean()\n",
    "print(f'Media = {media}')"
   ]
  },
  {
   "attachments": {},
   "cell_type": "markdown",
   "metadata": {},
   "source": [
    "### 15) Qual é a nota média em Matemática dos alunos do sexo FEMININO, que estudaram numa escola em Belo Horizonte, Sabará, Nova Lima ou Betim e estudaram em uma escola privada?"
   ]
  },
  {
   "attachments": {},
   "cell_type": "markdown",
   "metadata": {},
   "source": [
    "- Belo Horizonte: 3106200\n",
    "- Sabara: 3156700\n",
    "- Nova Lima: 3144805\n",
    "- Betim: 3106705\n",
    "\n",
    "- TP_ESCOLA: Tipo de escola do Ensino Médio\n",
    "  - 3: Privada"
   ]
  },
  {
   "cell_type": "code",
   "execution_count": 10,
   "metadata": {},
   "outputs": [
    {
     "name": "stdout",
     "output_type": "stream",
     "text": [
      "Media = 679.1369481765835\n"
     ]
    }
   ],
   "source": [
    "df_municipios = df_mg.loc[df_mg['CO_MUNICIPIO_ESC'].isin([3106200, 3156700, 3144805, 3106705])]\n",
    "df_municipios_privado = df_municipios.loc[df_municipios['TP_ESCOLA'] == 3]\n",
    "df_municipios_privado_fem = df_municipios_privado.loc[df_municipios_privado['TP_SEXO'] == 'F']\n",
    "\n",
    "\n",
    "media = pd.to_numeric(df_municipios_privado_fem['NU_NOTA_MT']).mean()\n",
    "print(f'Media = {media}')"
   ]
  },
  {
   "cell_type": "code",
   "execution_count": null,
   "metadata": {},
   "outputs": [],
   "source": []
  }
 ],
 "metadata": {
  "kernelspec": {
   "display_name": "env",
   "language": "python",
   "name": "python3"
  },
  "language_info": {
   "codemirror_mode": {
    "name": "ipython",
    "version": 3
   },
   "file_extension": ".py",
   "mimetype": "text/x-python",
   "name": "python",
   "nbconvert_exporter": "python",
   "pygments_lexer": "ipython3",
   "version": "3.8.10"
  },
  "orig_nbformat": 4,
  "vscode": {
   "interpreter": {
    "hash": "fabcaa27ca0f3e1b114f2319c4ee2f7bc49f242b0ccaa1f7d9b13b950e6bf550"
   }
  }
 },
 "nbformat": 4,
 "nbformat_minor": 2
}
